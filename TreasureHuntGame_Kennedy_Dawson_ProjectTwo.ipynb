{
 "cells": [
  {
   "cell_type": "markdown",
   "metadata": {},
   "source": [
    "# Treasure Hunt Game Notebook\n",
    "\n",
    "## Read and Review Your Starter Code\n",
    "The theme of this project is a popular treasure hunt game in which the player needs to find the treasure before the pirate does. While you will not be developing the entire game, you will write the part of the game that represents the intelligent agent, which is a pirate in this case. The pirate will try to find the optimal path to the treasure using deep Q-learning. \n",
    "\n",
    "You have been provided with two Python classes and this notebook to help you with this assignment. The first class, TreasureMaze.py, represents the environment, which includes a maze object defined as a matrix. The second class, GameExperience.py, stores the episodes – that is, all the states that come in between the initial state and the terminal state. This is later used by the agent for learning by experience, called \"exploration\". This notebook shows how to play a game. Your task is to complete the deep Q-learning implementation for which a skeleton implementation has been provided. The code blocks you will need to complete has #TODO as a header.\n",
    "\n",
    "First, read and review the next few code and instruction blocks to understand the code that you have been given."
   ]
  },
  {
   "cell_type": "code",
   "execution_count": 94,
   "metadata": {},
   "outputs": [],
   "source": [
    "from __future__ import print_function\n",
    "import os, sys, time, datetime, json, random\n",
    "import numpy as np\n",
    "from keras.models import Sequential\n",
    "from keras.layers.core import Dense, Activation\n",
    "from keras.optimizers import SGD , Adam, RMSprop\n",
    "from keras.layers.advanced_activations import PReLU\n",
    "import matplotlib.pyplot as plt\n",
    "from TreasureMaze import TreasureMaze\n",
    "from GameExperience import GameExperience\n",
    "%matplotlib inline"
   ]
  },
  {
   "cell_type": "markdown",
   "metadata": {},
   "source": [
    "The following code block contains an 8x8 matrix that will be used as a maze object:"
   ]
  },
  {
   "cell_type": "code",
   "execution_count": 95,
   "metadata": {},
   "outputs": [],
   "source": [
    "maze = np.array([\n",
    "    [ 1.,  0.,  1.,  1.,  1.,  1.,  1.,  1.],\n",
    "    [ 1.,  0.,  1.,  1.,  1.,  0.,  1.,  1.],\n",
    "    [ 1.,  1.,  1.,  1.,  0.,  1.,  0.,  1.],\n",
    "    [ 1.,  1.,  1.,  0.,  1.,  1.,  1.,  1.],\n",
    "    [ 1.,  1.,  0.,  1.,  1.,  1.,  1.,  1.],\n",
    "    [ 1.,  1.,  1.,  0.,  1.,  0.,  0.,  0.],\n",
    "    [ 1.,  1.,  1.,  0.,  1.,  1.,  1.,  1.],\n",
    "    [ 1.,  1.,  1.,  1.,  0.,  1.,  1.,  1.]\n",
    "])"
   ]
  },
  {
   "cell_type": "markdown",
   "metadata": {},
   "source": [
    "This helper function allows a visual representation of the maze object:"
   ]
  },
  {
   "cell_type": "code",
   "execution_count": 96,
   "metadata": {},
   "outputs": [],
   "source": [
    "def show(qmaze):\n",
    "    plt.grid('on')\n",
    "    nrows, ncols = qmaze.maze.shape\n",
    "    ax = plt.gca()\n",
    "    ax.set_xticks(np.arange(0.5, nrows, 1))\n",
    "    ax.set_yticks(np.arange(0.5, ncols, 1))\n",
    "    ax.set_xticklabels([])\n",
    "    ax.set_yticklabels([])\n",
    "    canvas = np.copy(qmaze.maze)\n",
    "    for row,col in qmaze.visited:\n",
    "        canvas[row,col] = 0.6\n",
    "    pirate_row, pirate_col, _ = qmaze.state\n",
    "    canvas[pirate_row, pirate_col] = 0.3   # pirate cell\n",
    "    canvas[nrows-1, ncols-1] = 0.9 # treasure cell\n",
    "    img = plt.imshow(canvas, interpolation='none', cmap='gray')\n",
    "    return img"
   ]
  },
  {
   "cell_type": "markdown",
   "metadata": {},
   "source": [
    "The pirate agent can move in four directions: left, right, up, and down. \n",
    "\n",
    "While the agent primarily learns by experience through exploitation, often, the agent can choose to explore the environment to find previously undiscovered paths. This is called \"exploration\" and is defined by epsilon. This value is typically a lower value such as 0.1, which means for every ten attempts, the agent will attempt to learn by experience nine times and will randomly explore a new path one time. You are encouraged to try various values for the exploration factor and see how the algorithm performs."
   ]
  },
  {
   "cell_type": "code",
   "execution_count": 97,
   "metadata": {},
   "outputs": [],
   "source": [
    "LEFT = 0\n",
    "UP = 1\n",
    "RIGHT = 2\n",
    "DOWN = 3\n",
    "\n",
    "\n",
    "# Exploration factor\n",
    "epsilon = 0.1\n",
    "\n",
    "# Actions dictionary\n",
    "actions_dict = {\n",
    "    LEFT: 'left',\n",
    "    UP: 'up',\n",
    "    RIGHT: 'right',\n",
    "    DOWN: 'down',\n",
    "}\n",
    "\n",
    "num_actions = len(actions_dict)\n"
   ]
  },
  {
   "cell_type": "markdown",
   "metadata": {},
   "source": [
    "The sample code block and output below show creating a maze object and performing one action (DOWN), which returns the reward. The resulting updated environment is visualized."
   ]
  },
  {
   "cell_type": "code",
   "execution_count": 98,
   "metadata": {},
   "outputs": [
    {
     "name": "stdout",
     "output_type": "stream",
     "text": [
      "reward= -0.04\n"
     ]
    },
    {
     "data": {
      "text/plain": [
       "<matplotlib.image.AxesImage at 0x2062696fb08>"
      ]
     },
     "execution_count": 98,
     "metadata": {},
     "output_type": "execute_result"
    },
    {
     "data": {
      "image/png": "[encoded data removed]",
      "text/plain": [
       "<Figure size 432x288 with 1 Axes>"
      ]
     },
     "metadata": {
      "needs_background": "light"
     },
     "output_type": "display_data"
    }
   ],
   "source": [
    "qmaze = TreasureMaze(maze)\n",
    "canvas, reward, game_over = qmaze.act(DOWN)\n",
    "print(\"reward=\", reward)\n",
    "show(qmaze)"
   ]
  },
  {
   "cell_type": "markdown",
   "metadata": {},
   "source": [
    "This function simulates a full game based on the provided trained model. The other parameters include the TreasureMaze object and the starting position of the pirate."
   ]
  },
  {
   "cell_type": "code",
   "execution_count": 99,
   "metadata": {},
   "outputs": [],
   "source": [
    "def play_game(model, qmaze, pirate_cell):\n",
    "    qmaze.reset(pirate_cell)\n",
    "    envstate = qmaze.observe()\n",
    "    while True:\n",
    "        prev_envstate = envstate\n",
    "        # get next action\n",
    "        q = model.predict(prev_envstate)\n",
    "        action = np.argmax(q[0])\n",
    "\n",
    "        # apply action, get rewards and new state\n",
    "        envstate, reward, game_status = qmaze.act(action)\n",
    "        if game_status == 'win':\n",
    "            return True\n",
    "        elif game_status == 'lose':\n",
    "            return False"
   ]
  },
  {
   "cell_type": "markdown",
   "metadata": {},
   "source": [
    "This function helps you to determine whether the pirate can win any game at all. If your maze is not well designed, the pirate may not win any game at all. In this case, your training would not yield any result. The provided maze in this notebook ensures that there is a path to win and you can run this method to check."
   ]
  },
  {
   "cell_type": "code",
   "execution_count": 100,
   "metadata": {},
   "outputs": [],
   "source": [
    "def completion_check(model, qmaze):\n",
    "    for cell in qmaze.free_cells:\n",
    "        if not qmaze.valid_actions(cell):\n",
    "            return False\n",
    "        if not play_game(model, qmaze, cell):\n",
    "            return False\n",
    "    return True"
   ]
  },
  {
   "cell_type": "markdown",
   "metadata": {},
   "source": [
    "The code you have been given in this block will build the neural network model. Review the code and note the number of layers, as well as the activation, optimizer, and loss functions that are used to train the model."
   ]
  },
  {
   "cell_type": "code",
   "execution_count": 101,
   "metadata": {},
   "outputs": [],
   "source": [
    "def build_model(maze):\n",
    "    model = Sequential()\n",
    "    model.add(Dense(maze.size, input_shape=(maze.size,)))\n",
    "    model.add(PReLU())\n",
    "    model.add(Dense(maze.size))\n",
    "    model.add(PReLU())\n",
    "    model.add(Dense(num_actions))\n",
    "    model.compile(optimizer='adam', loss='mse')\n",
    "    return model"
   ]
  },
  {
   "cell_type": "markdown",
   "metadata": {},
   "source": [
    "# #TODO: Complete the Q-Training Algorithm Code Block\n",
    "\n",
    "This is your deep Q-learning implementation. The goal of your deep Q-learning implementation is to find the best possible navigation sequence that results in reaching the treasure cell while maximizing the reward. In your implementation, you need to determine the optimal number of epochs to achieve a 100% win rate.\n",
    "\n",
    "You will need to complete the section starting with #pseudocode. The pseudocode has been included for you."
   ]
  },
  {
   "cell_type": "code",
   "execution_count": 102,
   "metadata": {},
   "outputs": [],
   "source": [
    "def qtrain(model, maze, **opt):\n",
    "\n",
    "    # exploration factor\n",
    "    global epsilon \n",
    "\n",
    "    # number of epochs\n",
    "    n_epoch = opt.get('n_epoch', 15000)\n",
    "\n",
    "    # maximum memory to store episodes\n",
    "    max_memory = opt.get('max_memory', 1000)\n",
    "\n",
    "    # maximum data size for training\n",
    "    data_size = opt.get('data_size', 50)\n",
    "\n",
    "    # start time\n",
    "    start_time = datetime.datetime.now()\n",
    "\n",
    "    # Construct environment/game from numpy array: maze (see above)\n",
    "    qmaze = TreasureMaze(maze)\n",
    "\n",
    "    # Initialize experience replay object\n",
    "    experience = GameExperience(model, max_memory=max_memory)\n",
    "    \n",
    "    win_history = []   # history of win/lose game\n",
    "    hsize = qmaze.maze.size//2   # history window size\n",
    "    win_rate = 0.0\n",
    "    \n",
    "    # Trainig loop\n",
    "    for epoch in range(n_epoch):\n",
    "        # randomoly select a free cell as the starting point for the agent\n",
    "        free_cells = qmaze.free_cells\n",
    "        agent_cell = free_cells[np.random.randint(0, len(free_cells))]\n",
    "        qmaze.reset(agent_cell)\n",
    "        \n",
    "        # Get the intial state\n",
    "        envstate = qmaze.observe()\n",
    "        game_status = 'not_over'\n",
    "        \n",
    "        n_episodes = 0\n",
    "        loss = 0.0\n",
    "        \n",
    "        # Play one episode until game is over\n",
    "        while game_status == 'not_over':\n",
    "            previous_envstate = envstate\n",
    "            \n",
    "            # Choose action: exploration v exploitation\n",
    "            if np.random.rand() < epsilon:\n",
    "                # Exploration: Random action\n",
    "                action = np.random.choice(qmaze.valid_actions())\n",
    "            else:\n",
    "                # Exploration: choose action with the highest predicted reward\n",
    "                q_values = model.predict(np.array([envstate.flatten()]))[0]\n",
    "                action = np.argmax(q_values)\n",
    "                \n",
    "            # Apply action, get new state and reward\n",
    "            envstate, reward, game_status = qmaze.act(action)\n",
    "            \n",
    "            # Store experience in replay memory\n",
    "            experience.remember([previous_envstate, action, reward, envstate,game_status])\n",
    "            \n",
    "            # Train neural network model on replay memory\n",
    "            inputs, targets = experience.get_data(data_size=data_size)\n",
    "            loss += model.train_on_batch(inputs, targets)\n",
    "            \n",
    "            n_episodes += 1\n",
    "            \n",
    "        # Check win/loss history\n",
    "        win_history.append(1 if game_status == 'win' else 0)\n",
    "        win_rate = sum(win_history[-hsize:]) / hsize\n",
    "        \n",
    "        # Exploration-exploitation trade-off: reduce epsilon over time\n",
    "        if epsilon > 0.1:\n",
    "            esilon += 0.995\n",
    "\n",
    "    #Print the epoch, loss, episodes, win count, and win rate for each epoch\n",
    "        dt = datetime.datetime.now() - start_time\n",
    "        t = format_time(dt.total_seconds())\n",
    "        template = \"Epoch: {:03d}/{:d} | Loss: {:.4f} | Episodes: {:d} | Win count: {:d} | Win rate: {:.3f} | time: {}\"\n",
    "        print(template.format(epoch, n_epoch-1, loss, n_episodes, sum(win_history), win_rate, t))\n",
    "        # We simply check if training has exhausted all free cells and if in all\n",
    "        # cases the agent won.\n",
    "        if win_rate > 0.9 : epsilon = 0.05\n",
    "        if sum(win_history[-hsize:]) == hsize and completion_check(model, qmaze):\n",
    "            print(\"Reached 100%% win rate at epoch: %d\" % (epoch,))\n",
    "            break\n",
    "    \n",
    "    \n",
    "    # Determine the total time for training\n",
    "    dt = datetime.datetime.now() - start_time\n",
    "    seconds = dt.total_seconds()\n",
    "    t = format_time(seconds)\n",
    "\n",
    "    print(\"n_epoch: %d, max_mem: %d, data: %d, time: %s\" % (epoch, max_memory, data_size, t))\n",
    "    return seconds\n",
    "\n",
    "# This is a small utility for printing readable time strings:\n",
    "def format_time(seconds):\n",
    "    if seconds < 400:\n",
    "        s = float(seconds)\n",
    "        return \"%.1f seconds\" % (s,)\n",
    "    elif seconds < 4000:\n",
    "        m = seconds / 60.0\n",
    "        return \"%.2f minutes\" % (m,)\n",
    "    else:\n",
    "        h = seconds / 3600.0\n",
    "        return \"%.2f hours\" % (h,)"
   ]
  },
  {
   "cell_type": "markdown",
   "metadata": {},
   "source": [
    "## Test Your Model\n",
    "\n",
    "Now we will start testing the deep Q-learning implementation. To begin, select **Cell**, then **Run All** from the menu bar. This will run your notebook. As it runs, you should see output begin to appear beneath the next few cells. The code below creates an instance of TreasureMaze."
   ]
  },
  {
   "cell_type": "code",
   "execution_count": 103,
   "metadata": {},
   "outputs": [
    {
     "data": {
      "text/plain": [
       "<matplotlib.image.AxesImage at 0x206269d8808>"
      ]
     },
     "execution_count": 103,
     "metadata": {},
     "output_type": "execute_result"
    },
    {
     "data": {
      "image/png": "[encoded data removed]",
      "text/plain": [
       "<Figure size 432x288 with 1 Axes>"
      ]
     },
     "metadata": {
      "needs_background": "light"
     },
     "output_type": "display_data"
    }
   ],
   "source": [
    "qmaze = TreasureMaze(maze)\n",
    "show(qmaze)"
   ]
  },
  {
   "cell_type": "markdown",
   "metadata": {},
   "source": [
    "In the next code block, you will build your model and train it using deep Q-learning. Note: This step takes several minutes to fully run."
   ]
  },
  {
   "cell_type": "code",
   "execution_count": 104,
   "metadata": {},
   "outputs": [
    {
     "name": "stdout",
     "output_type": "stream",
     "text": [
      "Epoch: 000/14999 | Loss: 1.6051 | Episodes: 138 | Win count: 0 | Win rate: 0.000 | time: 19.5 seconds\n",
      "Epoch: 001/14999 | Loss: 0.1257 | Episodes: 136 | Win count: 0 | Win rate: 0.000 | time: 40.5 seconds\n",
      "Epoch: 002/14999 | Loss: 0.1167 | Episodes: 136 | Win count: 0 | Win rate: 0.000 | time: 59.9 seconds\n",
      "Epoch: 003/14999 | Loss: 0.1316 | Episodes: 140 | Win count: 0 | Win rate: 0.000 | time: 79.2 seconds\n",
      "Epoch: 004/14999 | Loss: 0.1266 | Episodes: 138 | Win count: 0 | Win rate: 0.000 | time: 101.1 seconds\n",
      "Epoch: 005/14999 | Loss: 0.1542 | Episodes: 148 | Win count: 0 | Win rate: 0.000 | time: 126.1 seconds\n",
      "Epoch: 006/14999 | Loss: 0.1796 | Episodes: 140 | Win count: 0 | Win rate: 0.000 | time: 150.7 seconds\n",
      "Epoch: 007/14999 | Loss: 0.1493 | Episodes: 125 | Win count: 1 | Win rate: 0.031 | time: 169.7 seconds\n",
      "Epoch: 008/14999 | Loss: 0.2579 | Episodes: 99 | Win count: 2 | Win rate: 0.062 | time: 184.9 seconds\n",
      "Epoch: 009/14999 | Loss: 0.1669 | Episodes: 44 | Win count: 3 | Win rate: 0.094 | time: 191.1 seconds\n",
      "Epoch: 010/14999 | Loss: 0.0465 | Episodes: 15 | Win count: 4 | Win rate: 0.125 | time: 193.2 seconds\n",
      "Epoch: 011/14999 | Loss: 0.5988 | Episodes: 134 | Win count: 4 | Win rate: 0.125 | time: 213.1 seconds\n",
      "Epoch: 012/14999 | Loss: 0.0114 | Episodes: 1 | Win count: 5 | Win rate: 0.156 | time: 213.2 seconds\n",
      "Epoch: 013/14999 | Loss: 0.6407 | Episodes: 135 | Win count: 5 | Win rate: 0.156 | time: 234.2 seconds\n",
      "Epoch: 014/14999 | Loss: 0.2041 | Episodes: 40 | Win count: 6 | Win rate: 0.188 | time: 239.5 seconds\n",
      "Epoch: 015/14999 | Loss: 0.5528 | Episodes: 139 | Win count: 6 | Win rate: 0.188 | time: 261.7 seconds\n",
      "Epoch: 016/14999 | Loss: 0.0022 | Episodes: 2 | Win count: 7 | Win rate: 0.219 | time: 262.0 seconds\n",
      "Epoch: 017/14999 | Loss: 0.4700 | Episodes: 144 | Win count: 7 | Win rate: 0.219 | time: 287.3 seconds\n",
      "Epoch: 018/14999 | Loss: 0.3458 | Episodes: 141 | Win count: 7 | Win rate: 0.219 | time: 309.5 seconds\n",
      "Epoch: 019/14999 | Loss: 0.3491 | Episodes: 137 | Win count: 7 | Win rate: 0.219 | time: 330.7 seconds\n",
      "Epoch: 020/14999 | Loss: 0.1511 | Episodes: 140 | Win count: 7 | Win rate: 0.219 | time: 353.0 seconds\n",
      "Epoch: 021/14999 | Loss: 0.1132 | Episodes: 135 | Win count: 7 | Win rate: 0.219 | time: 375.7 seconds\n",
      "Epoch: 022/14999 | Loss: 0.0300 | Episodes: 40 | Win count: 8 | Win rate: 0.250 | time: 382.0 seconds\n",
      "Epoch: 023/14999 | Loss: 0.0395 | Episodes: 22 | Win count: 9 | Win rate: 0.281 | time: 385.5 seconds\n",
      "Epoch: 024/14999 | Loss: 0.3061 | Episodes: 136 | Win count: 9 | Win rate: 0.281 | time: 6.83 minutes\n",
      "Epoch: 025/14999 | Loss: 0.2684 | Episodes: 141 | Win count: 9 | Win rate: 0.281 | time: 7.25 minutes\n",
      "Epoch: 026/14999 | Loss: 0.2324 | Episodes: 138 | Win count: 9 | Win rate: 0.281 | time: 7.64 minutes\n",
      "Epoch: 027/14999 | Loss: 0.2480 | Episodes: 140 | Win count: 9 | Win rate: 0.281 | time: 8.02 minutes\n",
      "Epoch: 028/14999 | Loss: 0.0261 | Episodes: 28 | Win count: 10 | Win rate: 0.312 | time: 8.09 minutes\n",
      "Epoch: 029/14999 | Loss: 0.2150 | Episodes: 140 | Win count: 10 | Win rate: 0.312 | time: 8.47 minutes\n",
      "Epoch: 030/14999 | Loss: 0.0170 | Episodes: 14 | Win count: 11 | Win rate: 0.344 | time: 8.51 minutes\n",
      "Epoch: 031/14999 | Loss: 0.2723 | Episodes: 140 | Win count: 11 | Win rate: 0.344 | time: 8.89 minutes\n",
      "Epoch: 032/14999 | Loss: 0.0218 | Episodes: 14 | Win count: 12 | Win rate: 0.375 | time: 8.92 minutes\n",
      "Epoch: 033/14999 | Loss: 0.0395 | Episodes: 14 | Win count: 13 | Win rate: 0.406 | time: 8.95 minutes\n",
      "Epoch: 034/14999 | Loss: 0.4124 | Episodes: 142 | Win count: 13 | Win rate: 0.406 | time: 9.33 minutes\n",
      "Epoch: 035/14999 | Loss: 0.0672 | Episodes: 27 | Win count: 14 | Win rate: 0.438 | time: 9.40 minutes\n",
      "Epoch: 036/14999 | Loss: 0.2824 | Episodes: 138 | Win count: 14 | Win rate: 0.438 | time: 9.77 minutes\n",
      "Epoch: 037/14999 | Loss: 0.0373 | Episodes: 25 | Win count: 15 | Win rate: 0.469 | time: 9.84 minutes\n",
      "Epoch: 038/14999 | Loss: 0.2549 | Episodes: 139 | Win count: 15 | Win rate: 0.469 | time: 10.20 minutes\n",
      "Epoch: 039/14999 | Loss: 0.2709 | Episodes: 141 | Win count: 15 | Win rate: 0.438 | time: 10.58 minutes\n",
      "Epoch: 040/14999 | Loss: 0.1772 | Episodes: 139 | Win count: 15 | Win rate: 0.406 | time: 10.95 minutes\n",
      "Epoch: 041/14999 | Loss: 0.1662 | Episodes: 137 | Win count: 15 | Win rate: 0.375 | time: 11.31 minutes\n",
      "Epoch: 042/14999 | Loss: 0.0006 | Episodes: 1 | Win count: 16 | Win rate: 0.375 | time: 11.32 minutes\n",
      "Epoch: 043/14999 | Loss: 0.0079 | Episodes: 10 | Win count: 17 | Win rate: 0.406 | time: 11.35 minutes\n",
      "Epoch: 044/14999 | Loss: 0.0021 | Episodes: 4 | Win count: 18 | Win rate: 0.406 | time: 11.35 minutes\n",
      "Epoch: 045/14999 | Loss: 0.0214 | Episodes: 13 | Win count: 19 | Win rate: 0.438 | time: 11.39 minutes\n",
      "Epoch: 046/14999 | Loss: 0.2523 | Episodes: 144 | Win count: 19 | Win rate: 0.406 | time: 11.81 minutes\n",
      "Epoch: 047/14999 | Loss: 0.2177 | Episodes: 141 | Win count: 19 | Win rate: 0.406 | time: 12.23 minutes\n",
      "Epoch: 048/14999 | Loss: 0.0238 | Episodes: 18 | Win count: 20 | Win rate: 0.406 | time: 12.29 minutes\n",
      "Epoch: 049/14999 | Loss: 0.2031 | Episodes: 142 | Win count: 20 | Win rate: 0.406 | time: 12.71 minutes\n",
      "Epoch: 050/14999 | Loss: 0.0509 | Episodes: 38 | Win count: 21 | Win rate: 0.438 | time: 12.82 minutes\n",
      "Epoch: 051/14999 | Loss: 0.0058 | Episodes: 4 | Win count: 22 | Win rate: 0.469 | time: 12.83 minutes\n",
      "Epoch: 052/14999 | Loss: 0.1729 | Episodes: 143 | Win count: 22 | Win rate: 0.469 | time: 13.22 minutes\n",
      "Epoch: 053/14999 | Loss: 0.1865 | Episodes: 143 | Win count: 22 | Win rate: 0.469 | time: 13.60 minutes\n",
      "Epoch: 054/14999 | Loss: 0.2054 | Episodes: 145 | Win count: 22 | Win rate: 0.438 | time: 13.99 minutes\n",
      "Epoch: 055/14999 | Loss: 0.2149 | Episodes: 148 | Win count: 22 | Win rate: 0.406 | time: 14.39 minutes\n",
      "Epoch: 056/14999 | Loss: 0.0056 | Episodes: 5 | Win count: 23 | Win rate: 0.438 | time: 14.40 minutes\n",
      "Epoch: 057/14999 | Loss: 0.1760 | Episodes: 138 | Win count: 23 | Win rate: 0.438 | time: 14.79 minutes\n",
      "Epoch: 058/14999 | Loss: 0.1739 | Episodes: 146 | Win count: 23 | Win rate: 0.438 | time: 15.17 minutes\n",
      "Epoch: 059/14999 | Loss: 0.1639 | Episodes: 139 | Win count: 23 | Win rate: 0.438 | time: 15.56 minutes\n",
      "Epoch: 060/14999 | Loss: 0.0373 | Episodes: 38 | Win count: 24 | Win rate: 0.438 | time: 15.66 minutes\n",
      "Epoch: 061/14999 | Loss: 0.0279 | Episodes: 21 | Win count: 25 | Win rate: 0.469 | time: 15.72 minutes\n",
      "Epoch: 062/14999 | Loss: 0.0033 | Episodes: 2 | Win count: 26 | Win rate: 0.469 | time: 15.72 minutes\n",
      "Epoch: 063/14999 | Loss: 0.0810 | Episodes: 61 | Win count: 27 | Win rate: 0.500 | time: 15.90 minutes\n",
      "Epoch: 064/14999 | Loss: 0.0334 | Episodes: 26 | Win count: 28 | Win rate: 0.500 | time: 15.97 minutes\n",
      "Epoch: 065/14999 | Loss: 0.0202 | Episodes: 15 | Win count: 29 | Win rate: 0.500 | time: 16.01 minutes\n",
      "Epoch: 066/14999 | Loss: 0.0193 | Episodes: 12 | Win count: 30 | Win rate: 0.531 | time: 16.04 minutes\n",
      "Epoch: 067/14999 | Loss: 0.0216 | Episodes: 10 | Win count: 31 | Win rate: 0.531 | time: 16.06 minutes\n",
      "Epoch: 068/14999 | Loss: 0.2216 | Episodes: 144 | Win count: 31 | Win rate: 0.531 | time: 16.45 minutes\n",
      "Epoch: 069/14999 | Loss: 0.0102 | Episodes: 6 | Win count: 32 | Win rate: 0.531 | time: 16.46 minutes\n",
      "Epoch: 070/14999 | Loss: 0.0159 | Episodes: 9 | Win count: 33 | Win rate: 0.562 | time: 16.49 minutes\n",
      "Epoch: 071/14999 | Loss: 0.2237 | Episodes: 142 | Win count: 33 | Win rate: 0.562 | time: 16.94 minutes\n",
      "Epoch: 072/14999 | Loss: 0.2009 | Episodes: 142 | Win count: 33 | Win rate: 0.562 | time: 17.33 minutes\n",
      "Epoch: 073/14999 | Loss: 0.1454 | Episodes: 142 | Win count: 33 | Win rate: 0.562 | time: 17.73 minutes\n",
      "Epoch: 074/14999 | Loss: 0.1392 | Episodes: 144 | Win count: 33 | Win rate: 0.531 | time: 18.13 minutes\n",
      "Epoch: 075/14999 | Loss: 0.0075 | Episodes: 10 | Win count: 34 | Win rate: 0.531 | time: 18.16 minutes\n",
      "Epoch: 076/14999 | Loss: 0.1498 | Episodes: 142 | Win count: 34 | Win rate: 0.500 | time: 18.56 minutes\n",
      "Epoch: 077/14999 | Loss: 0.1353 | Episodes: 142 | Win count: 34 | Win rate: 0.469 | time: 19.00 minutes\n",
      "Epoch: 078/14999 | Loss: 0.1380 | Episodes: 138 | Win count: 34 | Win rate: 0.469 | time: 19.36 minutes\n",
      "Epoch: 079/14999 | Loss: 0.0564 | Episodes: 54 | Win count: 35 | Win rate: 0.500 | time: 19.51 minutes\n"
     ]
    },
    {
     "name": "stdout",
     "output_type": "stream",
     "text": [
      "Epoch: 080/14999 | Loss: 0.0169 | Episodes: 13 | Win count: 36 | Win rate: 0.500 | time: 19.55 minutes\n",
      "Epoch: 081/14999 | Loss: 0.1558 | Episodes: 144 | Win count: 36 | Win rate: 0.500 | time: 19.94 minutes\n",
      "Epoch: 082/14999 | Loss: 0.0012 | Episodes: 1 | Win count: 37 | Win rate: 0.500 | time: 19.94 minutes\n",
      "Epoch: 083/14999 | Loss: 0.1646 | Episodes: 144 | Win count: 37 | Win rate: 0.469 | time: 20.34 minutes\n",
      "Epoch: 084/14999 | Loss: 0.1687 | Episodes: 143 | Win count: 37 | Win rate: 0.469 | time: 20.74 minutes\n",
      "Epoch: 085/14999 | Loss: 0.0155 | Episodes: 11 | Win count: 38 | Win rate: 0.500 | time: 20.77 minutes\n",
      "Epoch: 086/14999 | Loss: 0.1488 | Episodes: 135 | Win count: 38 | Win rate: 0.500 | time: 21.14 minutes\n",
      "Epoch: 087/14999 | Loss: 0.1384 | Episodes: 139 | Win count: 38 | Win rate: 0.500 | time: 21.52 minutes\n",
      "Epoch: 088/14999 | Loss: 0.0093 | Episodes: 10 | Win count: 39 | Win rate: 0.500 | time: 21.55 minutes\n",
      "Epoch: 089/14999 | Loss: 0.1130 | Episodes: 134 | Win count: 39 | Win rate: 0.500 | time: 21.95 minutes\n",
      "Epoch: 090/14999 | Loss: 0.1222 | Episodes: 140 | Win count: 39 | Win rate: 0.500 | time: 22.38 minutes\n",
      "Epoch: 091/14999 | Loss: 0.0055 | Episodes: 8 | Win count: 40 | Win rate: 0.531 | time: 22.41 minutes\n",
      "Epoch: 092/14999 | Loss: 0.0050 | Episodes: 8 | Win count: 41 | Win rate: 0.531 | time: 22.43 minutes\n",
      "Epoch: 093/14999 | Loss: 0.0094 | Episodes: 12 | Win count: 42 | Win rate: 0.531 | time: 22.47 minutes\n",
      "Epoch: 094/14999 | Loss: 0.1122 | Episodes: 141 | Win count: 42 | Win rate: 0.500 | time: 22.84 minutes\n",
      "Epoch: 095/14999 | Loss: 0.1292 | Episodes: 139 | Win count: 42 | Win rate: 0.469 | time: 23.20 minutes\n",
      "Epoch: 096/14999 | Loss: 0.0015 | Episodes: 2 | Win count: 43 | Win rate: 0.469 | time: 23.21 minutes\n",
      "Epoch: 097/14999 | Loss: 0.0114 | Episodes: 11 | Win count: 44 | Win rate: 0.469 | time: 23.23 minutes\n",
      "Epoch: 098/14999 | Loss: 0.0240 | Episodes: 21 | Win count: 45 | Win rate: 0.469 | time: 23.27 minutes\n",
      "Epoch: 099/14999 | Loss: 0.1865 | Episodes: 142 | Win count: 45 | Win rate: 0.438 | time: 23.65 minutes\n",
      "Epoch: 100/14999 | Loss: 0.1613 | Episodes: 144 | Win count: 45 | Win rate: 0.438 | time: 24.04 minutes\n",
      "Epoch: 101/14999 | Loss: 0.0677 | Episodes: 63 | Win count: 46 | Win rate: 0.438 | time: 24.20 minutes\n",
      "Epoch: 102/14999 | Loss: 0.0162 | Episodes: 15 | Win count: 47 | Win rate: 0.438 | time: 24.24 minutes\n",
      "Epoch: 103/14999 | Loss: 0.1728 | Episodes: 143 | Win count: 47 | Win rate: 0.438 | time: 24.66 minutes\n",
      "Epoch: 104/14999 | Loss: 0.0042 | Episodes: 4 | Win count: 48 | Win rate: 0.469 | time: 24.67 minutes\n",
      "Epoch: 105/14999 | Loss: 0.0018 | Episodes: 2 | Win count: 49 | Win rate: 0.500 | time: 24.67 minutes\n",
      "Epoch: 106/14999 | Loss: 0.0034 | Episodes: 4 | Win count: 50 | Win rate: 0.531 | time: 24.68 minutes\n",
      "Epoch: 107/14999 | Loss: 0.0012 | Episodes: 1 | Win count: 51 | Win rate: 0.531 | time: 24.69 minutes\n",
      "Epoch: 108/14999 | Loss: 0.0173 | Episodes: 11 | Win count: 52 | Win rate: 0.562 | time: 24.72 minutes\n",
      "Epoch: 109/14999 | Loss: 0.0261 | Episodes: 21 | Win count: 53 | Win rate: 0.594 | time: 24.77 minutes\n",
      "Epoch: 110/14999 | Loss: 0.1041 | Episodes: 78 | Win count: 54 | Win rate: 0.625 | time: 25.00 minutes\n",
      "Epoch: 111/14999 | Loss: 0.0081 | Episodes: 6 | Win count: 55 | Win rate: 0.625 | time: 25.01 minutes\n",
      "Epoch: 112/14999 | Loss: 0.0090 | Episodes: 8 | Win count: 56 | Win rate: 0.625 | time: 25.04 minutes\n",
      "Epoch: 113/14999 | Loss: 0.0378 | Episodes: 27 | Win count: 57 | Win rate: 0.656 | time: 25.11 minutes\n",
      "Epoch: 114/14999 | Loss: 0.0235 | Episodes: 16 | Win count: 58 | Win rate: 0.656 | time: 25.15 minutes\n",
      "Epoch: 115/14999 | Loss: 0.0358 | Episodes: 24 | Win count: 59 | Win rate: 0.688 | time: 25.22 minutes\n",
      "Epoch: 116/14999 | Loss: 0.0284 | Episodes: 20 | Win count: 60 | Win rate: 0.719 | time: 25.28 minutes\n",
      "Epoch: 117/14999 | Loss: 0.0252 | Episodes: 20 | Win count: 61 | Win rate: 0.719 | time: 25.34 minutes\n",
      "Epoch: 118/14999 | Loss: 0.0020 | Episodes: 1 | Win count: 62 | Win rate: 0.750 | time: 25.34 minutes\n",
      "Epoch: 119/14999 | Loss: 0.0183 | Episodes: 12 | Win count: 63 | Win rate: 0.781 | time: 25.38 minutes\n",
      "Epoch: 120/14999 | Loss: 0.0040 | Episodes: 3 | Win count: 64 | Win rate: 0.781 | time: 25.39 minutes\n",
      "Epoch: 121/14999 | Loss: 0.1965 | Episodes: 146 | Win count: 64 | Win rate: 0.781 | time: 25.81 minutes\n",
      "Epoch: 122/14999 | Loss: 0.0896 | Episodes: 59 | Win count: 65 | Win rate: 0.812 | time: 25.96 minutes\n",
      "Epoch: 123/14999 | Loss: 0.0204 | Episodes: 15 | Win count: 66 | Win rate: 0.812 | time: 26.00 minutes\n",
      "Epoch: 124/14999 | Loss: 0.1425 | Episodes: 77 | Win count: 67 | Win rate: 0.812 | time: 26.21 minutes\n",
      "Epoch: 125/14999 | Loss: 0.2957 | Episodes: 134 | Win count: 68 | Win rate: 0.812 | time: 26.59 minutes\n",
      "Epoch: 126/14999 | Loss: 0.0164 | Episodes: 9 | Win count: 69 | Win rate: 0.844 | time: 26.62 minutes\n",
      "Epoch: 127/14999 | Loss: 0.1876 | Episodes: 115 | Win count: 70 | Win rate: 0.875 | time: 26.96 minutes\n",
      "Epoch: 128/14999 | Loss: 0.0392 | Episodes: 26 | Win count: 71 | Win rate: 0.875 | time: 27.04 minutes\n",
      "Epoch: 129/14999 | Loss: 0.0249 | Episodes: 17 | Win count: 72 | Win rate: 0.875 | time: 27.09 minutes\n",
      "Epoch: 130/14999 | Loss: 0.0332 | Episodes: 21 | Win count: 73 | Win rate: 0.875 | time: 27.15 minutes\n",
      "Epoch: 131/14999 | Loss: 0.0280 | Episodes: 20 | Win count: 74 | Win rate: 0.906 | time: 27.21 minutes\n",
      "Epoch: 132/14999 | Loss: 0.0466 | Episodes: 30 | Win count: 75 | Win rate: 0.938 | time: 27.30 minutes\n",
      "Epoch: 133/14999 | Loss: 0.1599 | Episodes: 102 | Win count: 76 | Win rate: 0.938 | time: 27.60 minutes\n",
      "Epoch: 134/14999 | Loss: 0.0079 | Episodes: 5 | Win count: 77 | Win rate: 0.938 | time: 27.61 minutes\n",
      "Epoch: 135/14999 | Loss: 0.0291 | Episodes: 20 | Win count: 78 | Win rate: 0.969 | time: 27.67 minutes\n",
      "Epoch: 136/14999 | Loss: 0.0132 | Episodes: 9 | Win count: 79 | Win rate: 0.969 | time: 27.70 minutes\n",
      "Epoch: 137/14999 | Loss: 0.0143 | Episodes: 10 | Win count: 80 | Win rate: 0.969 | time: 27.73 minutes\n",
      "Epoch: 138/14999 | Loss: 0.0713 | Episodes: 47 | Win count: 81 | Win rate: 0.969 | time: 27.87 minutes\n",
      "Epoch: 139/14999 | Loss: 0.0352 | Episodes: 24 | Win count: 82 | Win rate: 0.969 | time: 27.94 minutes\n",
      "Epoch: 140/14999 | Loss: 0.0231 | Episodes: 18 | Win count: 83 | Win rate: 0.969 | time: 27.99 minutes\n",
      "Epoch: 141/14999 | Loss: 0.0130 | Episodes: 10 | Win count: 84 | Win rate: 0.969 | time: 28.01 minutes\n",
      "Epoch: 142/14999 | Loss: 0.0778 | Episodes: 53 | Win count: 85 | Win rate: 0.969 | time: 28.16 minutes\n",
      "Epoch: 143/14999 | Loss: 0.0143 | Episodes: 10 | Win count: 86 | Win rate: 0.969 | time: 28.19 minutes\n",
      "Epoch: 144/14999 | Loss: 0.0161 | Episodes: 11 | Win count: 87 | Win rate: 0.969 | time: 28.22 minutes\n",
      "Epoch: 145/14999 | Loss: 0.0289 | Episodes: 21 | Win count: 88 | Win rate: 0.969 | time: 28.28 minutes\n",
      "Epoch: 146/14999 | Loss: 0.0017 | Episodes: 1 | Win count: 89 | Win rate: 0.969 | time: 28.28 minutes\n",
      "Epoch: 147/14999 | Loss: 0.0088 | Episodes: 7 | Win count: 90 | Win rate: 0.969 | time: 28.30 minutes\n",
      "Epoch: 148/14999 | Loss: 0.0275 | Episodes: 25 | Win count: 91 | Win rate: 0.969 | time: 28.37 minutes\n",
      "Epoch: 149/14999 | Loss: 0.0121 | Episodes: 10 | Win count: 92 | Win rate: 0.969 | time: 28.40 minutes\n",
      "Epoch: 150/14999 | Loss: 0.0415 | Episodes: 31 | Win count: 93 | Win rate: 0.969 | time: 28.49 minutes\n",
      "Epoch: 151/14999 | Loss: 0.0083 | Episodes: 7 | Win count: 94 | Win rate: 0.969 | time: 28.51 minutes\n",
      "Epoch: 152/14999 | Loss: 0.0458 | Episodes: 35 | Win count: 95 | Win rate: 0.969 | time: 28.62 minutes\n",
      "Epoch: 153/14999 | Loss: 0.0334 | Episodes: 25 | Win count: 96 | Win rate: 1.000 | time: 28.69 minutes\n",
      "Epoch: 154/14999 | Loss: 0.0407 | Episodes: 34 | Win count: 97 | Win rate: 1.000 | time: 28.79 minutes\n",
      "Epoch: 155/14999 | Loss: 0.0143 | Episodes: 14 | Win count: 98 | Win rate: 1.000 | time: 28.83 minutes\n",
      "Epoch: 156/14999 | Loss: 0.0230 | Episodes: 21 | Win count: 99 | Win rate: 1.000 | time: 28.90 minutes\n",
      "Epoch: 157/14999 | Loss: 0.0030 | Episodes: 2 | Win count: 100 | Win rate: 1.000 | time: 28.91 minutes\n",
      "Epoch: 158/14999 | Loss: 0.0025 | Episodes: 2 | Win count: 101 | Win rate: 1.000 | time: 28.92 minutes\n",
      "Epoch: 159/14999 | Loss: 0.0187 | Episodes: 16 | Win count: 102 | Win rate: 1.000 | time: 28.98 minutes\n"
     ]
    },
    {
     "name": "stdout",
     "output_type": "stream",
     "text": [
      "Epoch: 160/14999 | Loss: 0.0010 | Episodes: 1 | Win count: 103 | Win rate: 1.000 | time: 28.98 minutes\n",
      "Epoch: 161/14999 | Loss: 0.0253 | Episodes: 23 | Win count: 104 | Win rate: 1.000 | time: 29.05 minutes\n",
      "Epoch: 162/14999 | Loss: 0.0206 | Episodes: 21 | Win count: 105 | Win rate: 1.000 | time: 29.11 minutes\n",
      "Epoch: 163/14999 | Loss: 0.0182 | Episodes: 22 | Win count: 106 | Win rate: 1.000 | time: 29.18 minutes\n",
      "Epoch: 164/14999 | Loss: 0.0113 | Episodes: 11 | Win count: 107 | Win rate: 1.000 | time: 29.21 minutes\n",
      "Epoch: 165/14999 | Loss: 0.0088 | Episodes: 9 | Win count: 108 | Win rate: 1.000 | time: 29.24 minutes\n",
      "Epoch: 166/14999 | Loss: 0.0027 | Episodes: 3 | Win count: 109 | Win rate: 1.000 | time: 29.25 minutes\n",
      "Epoch: 167/14999 | Loss: 0.0585 | Episodes: 63 | Win count: 110 | Win rate: 1.000 | time: 29.42 minutes\n",
      "Epoch: 168/14999 | Loss: 0.1131 | Episodes: 126 | Win count: 111 | Win rate: 1.000 | time: 29.79 minutes\n",
      "Epoch: 169/14999 | Loss: 0.0146 | Episodes: 18 | Win count: 112 | Win rate: 1.000 | time: 29.85 minutes\n",
      "Epoch: 170/14999 | Loss: 0.0056 | Episodes: 7 | Win count: 113 | Win rate: 1.000 | time: 29.87 minutes\n",
      "Epoch: 171/14999 | Loss: 0.0055 | Episodes: 8 | Win count: 114 | Win rate: 1.000 | time: 29.90 minutes\n",
      "Epoch: 172/14999 | Loss: 0.0014 | Episodes: 2 | Win count: 115 | Win rate: 1.000 | time: 29.92 minutes\n",
      "Epoch: 173/14999 | Loss: 0.0043 | Episodes: 5 | Win count: 116 | Win rate: 1.000 | time: 29.95 minutes\n",
      "Epoch: 174/14999 | Loss: 0.0008 | Episodes: 1 | Win count: 117 | Win rate: 1.000 | time: 29.96 minutes\n",
      "Epoch: 175/14999 | Loss: 0.0457 | Episodes: 57 | Win count: 118 | Win rate: 1.000 | time: 30.13 minutes\n",
      "Epoch: 176/14999 | Loss: 0.0188 | Episodes: 22 | Win count: 119 | Win rate: 1.000 | time: 30.19 minutes\n",
      "Epoch: 177/14999 | Loss: 0.0020 | Episodes: 2 | Win count: 120 | Win rate: 1.000 | time: 30.21 minutes\n",
      "Epoch: 178/14999 | Loss: 0.0063 | Episodes: 11 | Win count: 121 | Win rate: 1.000 | time: 30.24 minutes\n",
      "Epoch: 179/14999 | Loss: 0.0017 | Episodes: 2 | Win count: 122 | Win rate: 1.000 | time: 30.26 minutes\n",
      "Epoch: 180/14999 | Loss: 0.0140 | Episodes: 20 | Win count: 123 | Win rate: 1.000 | time: 30.31 minutes\n",
      "Epoch: 181/14999 | Loss: 0.0157 | Episodes: 19 | Win count: 124 | Win rate: 1.000 | time: 30.37 minutes\n",
      "Epoch: 182/14999 | Loss: 0.0023 | Episodes: 5 | Win count: 125 | Win rate: 1.000 | time: 30.39 minutes\n",
      "Epoch: 183/14999 | Loss: 0.0102 | Episodes: 15 | Win count: 126 | Win rate: 1.000 | time: 30.43 minutes\n",
      "Epoch: 184/14999 | Loss: 0.0167 | Episodes: 23 | Win count: 127 | Win rate: 1.000 | time: 30.50 minutes\n",
      "Epoch: 185/14999 | Loss: 0.0296 | Episodes: 42 | Win count: 128 | Win rate: 1.000 | time: 30.62 minutes\n",
      "Epoch: 186/14999 | Loss: 0.0132 | Episodes: 15 | Win count: 129 | Win rate: 1.000 | time: 30.67 minutes\n",
      "Epoch: 187/14999 | Loss: 0.0097 | Episodes: 11 | Win count: 130 | Win rate: 1.000 | time: 30.71 minutes\n",
      "Epoch: 188/14999 | Loss: 0.0137 | Episodes: 19 | Win count: 131 | Win rate: 1.000 | time: 30.77 minutes\n",
      "Epoch: 189/14999 | Loss: 0.0047 | Episodes: 7 | Win count: 132 | Win rate: 1.000 | time: 30.80 minutes\n",
      "Epoch: 190/14999 | Loss: 0.0210 | Episodes: 26 | Win count: 133 | Win rate: 1.000 | time: 30.88 minutes\n",
      "Epoch: 191/14999 | Loss: 0.0212 | Episodes: 28 | Win count: 134 | Win rate: 1.000 | time: 30.96 minutes\n",
      "Epoch: 192/14999 | Loss: 0.0221 | Episodes: 33 | Win count: 135 | Win rate: 1.000 | time: 31.07 minutes\n",
      "Epoch: 193/14999 | Loss: 0.0162 | Episodes: 24 | Win count: 136 | Win rate: 1.000 | time: 31.14 minutes\n",
      "Epoch: 194/14999 | Loss: 0.0292 | Episodes: 40 | Win count: 137 | Win rate: 1.000 | time: 31.25 minutes\n",
      "Epoch: 195/14999 | Loss: 0.0299 | Episodes: 38 | Win count: 138 | Win rate: 1.000 | time: 31.36 minutes\n",
      "Epoch: 196/14999 | Loss: 0.0087 | Episodes: 11 | Win count: 139 | Win rate: 1.000 | time: 31.40 minutes\n",
      "Epoch: 197/14999 | Loss: 0.0008 | Episodes: 1 | Win count: 140 | Win rate: 1.000 | time: 31.41 minutes\n",
      "Epoch: 198/14999 | Loss: 0.0274 | Episodes: 35 | Win count: 141 | Win rate: 1.000 | time: 31.52 minutes\n",
      "Epoch: 199/14999 | Loss: 0.0178 | Episodes: 24 | Win count: 142 | Win rate: 1.000 | time: 31.60 minutes\n",
      "Epoch: 200/14999 | Loss: 0.0230 | Episodes: 31 | Win count: 143 | Win rate: 1.000 | time: 31.70 minutes\n",
      "Epoch: 201/14999 | Loss: 0.0090 | Episodes: 15 | Win count: 144 | Win rate: 1.000 | time: 31.76 minutes\n",
      "Epoch: 202/14999 | Loss: 0.0186 | Episodes: 31 | Win count: 145 | Win rate: 1.000 | time: 31.87 minutes\n",
      "Epoch: 203/14999 | Loss: 0.0061 | Episodes: 7 | Win count: 146 | Win rate: 1.000 | time: 31.90 minutes\n",
      "Epoch: 204/14999 | Loss: 0.0009 | Episodes: 1 | Win count: 147 | Win rate: 1.000 | time: 31.90 minutes\n",
      "Epoch: 205/14999 | Loss: 0.0222 | Episodes: 36 | Win count: 148 | Win rate: 1.000 | time: 32.02 minutes\n",
      "Epoch: 206/14999 | Loss: 0.0233 | Episodes: 28 | Win count: 149 | Win rate: 1.000 | time: 32.11 minutes\n",
      "Epoch: 207/14999 | Loss: 0.0038 | Episodes: 5 | Win count: 150 | Win rate: 1.000 | time: 32.13 minutes\n",
      "Epoch: 208/14999 | Loss: 0.0240 | Episodes: 29 | Win count: 151 | Win rate: 1.000 | time: 32.21 minutes\n",
      "Epoch: 209/14999 | Loss: 0.0132 | Episodes: 17 | Win count: 152 | Win rate: 1.000 | time: 32.26 minutes\n",
      "Epoch: 210/14999 | Loss: 0.0027 | Episodes: 3 | Win count: 153 | Win rate: 1.000 | time: 32.28 minutes\n",
      "Epoch: 211/14999 | Loss: 0.0156 | Episodes: 24 | Win count: 154 | Win rate: 1.000 | time: 32.36 minutes\n",
      "Epoch: 212/14999 | Loss: 0.0128 | Episodes: 20 | Win count: 155 | Win rate: 1.000 | time: 32.43 minutes\n",
      "Epoch: 213/14999 | Loss: 0.0052 | Episodes: 8 | Win count: 156 | Win rate: 1.000 | time: 32.46 minutes\n",
      "Epoch: 214/14999 | Loss: 0.0041 | Episodes: 7 | Win count: 157 | Win rate: 1.000 | time: 32.49 minutes\n",
      "Epoch: 215/14999 | Loss: 0.0203 | Episodes: 30 | Win count: 158 | Win rate: 1.000 | time: 32.58 minutes\n",
      "Epoch: 216/14999 | Loss: 0.0166 | Episodes: 24 | Win count: 159 | Win rate: 1.000 | time: 32.65 minutes\n",
      "Epoch: 217/14999 | Loss: 0.0070 | Episodes: 12 | Win count: 160 | Win rate: 1.000 | time: 32.69 minutes\n",
      "Epoch: 218/14999 | Loss: 0.0083 | Episodes: 11 | Win count: 161 | Win rate: 1.000 | time: 32.74 minutes\n",
      "Epoch: 219/14999 | Loss: 0.0075 | Episodes: 13 | Win count: 162 | Win rate: 1.000 | time: 32.78 minutes\n",
      "Epoch: 220/14999 | Loss: 0.0135 | Episodes: 23 | Win count: 163 | Win rate: 1.000 | time: 32.85 minutes\n",
      "Epoch: 221/14999 | Loss: 0.0111 | Episodes: 22 | Win count: 164 | Win rate: 1.000 | time: 32.92 minutes\n",
      "Epoch: 222/14999 | Loss: 0.0251 | Episodes: 36 | Win count: 165 | Win rate: 1.000 | time: 33.02 minutes\n",
      "Epoch: 223/14999 | Loss: 0.0113 | Episodes: 16 | Win count: 166 | Win rate: 1.000 | time: 33.08 minutes\n",
      "Epoch: 224/14999 | Loss: 0.0161 | Episodes: 23 | Win count: 167 | Win rate: 1.000 | time: 33.15 minutes\n",
      "Epoch: 225/14999 | Loss: 0.0106 | Episodes: 13 | Win count: 168 | Win rate: 1.000 | time: 33.19 minutes\n",
      "Epoch: 226/14999 | Loss: 0.0782 | Episodes: 101 | Win count: 169 | Win rate: 1.000 | time: 33.48 minutes\n",
      "Epoch: 227/14999 | Loss: 0.0173 | Episodes: 20 | Win count: 170 | Win rate: 1.000 | time: 33.54 minutes\n",
      "Epoch: 228/14999 | Loss: 0.0198 | Episodes: 22 | Win count: 171 | Win rate: 1.000 | time: 33.61 minutes\n",
      "Epoch: 229/14999 | Loss: 0.0129 | Episodes: 12 | Win count: 172 | Win rate: 1.000 | time: 33.64 minutes\n",
      "Epoch: 230/14999 | Loss: 0.0070 | Episodes: 9 | Win count: 173 | Win rate: 1.000 | time: 33.67 minutes\n",
      "Epoch: 231/14999 | Loss: 0.0079 | Episodes: 8 | Win count: 174 | Win rate: 1.000 | time: 33.70 minutes\n",
      "Epoch: 232/14999 | Loss: 0.0127 | Episodes: 17 | Win count: 175 | Win rate: 1.000 | time: 33.75 minutes\n",
      "Epoch: 233/14999 | Loss: 0.0007 | Episodes: 1 | Win count: 176 | Win rate: 1.000 | time: 33.76 minutes\n",
      "Epoch: 234/14999 | Loss: 0.0899 | Episodes: 91 | Win count: 177 | Win rate: 1.000 | time: 34.03 minutes\n",
      "Epoch: 235/14999 | Loss: 0.0243 | Episodes: 23 | Win count: 178 | Win rate: 1.000 | time: 34.10 minutes\n",
      "Epoch: 236/14999 | Loss: 0.0233 | Episodes: 25 | Win count: 179 | Win rate: 1.000 | time: 34.17 minutes\n",
      "Epoch: 237/14999 | Loss: 0.0145 | Episodes: 19 | Win count: 180 | Win rate: 1.000 | time: 34.23 minutes\n",
      "Epoch: 238/14999 | Loss: 0.0179 | Episodes: 22 | Win count: 181 | Win rate: 1.000 | time: 34.30 minutes\n"
     ]
    },
    {
     "name": "stdout",
     "output_type": "stream",
     "text": [
      "Epoch: 239/14999 | Loss: 0.0013 | Episodes: 2 | Win count: 182 | Win rate: 1.000 | time: 34.31 minutes\n",
      "Epoch: 240/14999 | Loss: 0.0168 | Episodes: 18 | Win count: 183 | Win rate: 1.000 | time: 34.37 minutes\n",
      "Epoch: 241/14999 | Loss: 0.0200 | Episodes: 20 | Win count: 184 | Win rate: 1.000 | time: 34.43 minutes\n",
      "Epoch: 242/14999 | Loss: 0.1074 | Episodes: 111 | Win count: 185 | Win rate: 1.000 | time: 34.76 minutes\n",
      "Epoch: 243/14999 | Loss: 0.0152 | Episodes: 20 | Win count: 186 | Win rate: 1.000 | time: 34.83 minutes\n",
      "Epoch: 244/14999 | Loss: 0.0067 | Episodes: 8 | Win count: 187 | Win rate: 1.000 | time: 34.86 minutes\n",
      "Epoch: 245/14999 | Loss: 0.0212 | Episodes: 28 | Win count: 188 | Win rate: 1.000 | time: 34.95 minutes\n",
      "Epoch: 246/14999 | Loss: 0.0132 | Episodes: 19 | Win count: 189 | Win rate: 1.000 | time: 35.02 minutes\n",
      "Epoch: 247/14999 | Loss: 0.0064 | Episodes: 9 | Win count: 190 | Win rate: 1.000 | time: 35.05 minutes\n",
      "Epoch: 248/14999 | Loss: 0.0239 | Episodes: 25 | Win count: 191 | Win rate: 1.000 | time: 35.13 minutes\n",
      "Epoch: 249/14999 | Loss: 0.0105 | Episodes: 11 | Win count: 192 | Win rate: 1.000 | time: 35.16 minutes\n",
      "Epoch: 250/14999 | Loss: 0.0174 | Episodes: 20 | Win count: 193 | Win rate: 1.000 | time: 35.22 minutes\n",
      "Epoch: 251/14999 | Loss: 0.0192 | Episodes: 23 | Win count: 194 | Win rate: 1.000 | time: 35.29 minutes\n",
      "Epoch: 252/14999 | Loss: 0.0127 | Episodes: 20 | Win count: 195 | Win rate: 1.000 | time: 35.34 minutes\n",
      "Epoch: 253/14999 | Loss: 0.0173 | Episodes: 28 | Win count: 196 | Win rate: 1.000 | time: 35.42 minutes\n",
      "Epoch: 254/14999 | Loss: 0.0023 | Episodes: 5 | Win count: 197 | Win rate: 1.000 | time: 35.44 minutes\n",
      "Epoch: 255/14999 | Loss: 0.0004 | Episodes: 1 | Win count: 198 | Win rate: 1.000 | time: 35.45 minutes\n",
      "Epoch: 256/14999 | Loss: 0.0050 | Episodes: 6 | Win count: 199 | Win rate: 1.000 | time: 35.48 minutes\n",
      "Epoch: 257/14999 | Loss: 0.0141 | Episodes: 25 | Win count: 200 | Win rate: 1.000 | time: 35.56 minutes\n",
      "Epoch: 258/14999 | Loss: 0.0223 | Episodes: 36 | Win count: 201 | Win rate: 1.000 | time: 35.68 minutes\n",
      "Epoch: 259/14999 | Loss: 0.0122 | Episodes: 23 | Win count: 202 | Win rate: 1.000 | time: 35.75 minutes\n",
      "Epoch: 260/14999 | Loss: 0.0012 | Episodes: 2 | Win count: 203 | Win rate: 1.000 | time: 35.76 minutes\n",
      "Epoch: 261/14999 | Loss: 0.0077 | Episodes: 12 | Win count: 204 | Win rate: 1.000 | time: 35.81 minutes\n",
      "Epoch: 262/14999 | Loss: 0.0155 | Episodes: 26 | Win count: 205 | Win rate: 1.000 | time: 35.89 minutes\n",
      "Epoch: 263/14999 | Loss: 0.0202 | Episodes: 35 | Win count: 206 | Win rate: 1.000 | time: 35.98 minutes\n",
      "Epoch: 264/14999 | Loss: 0.0104 | Episodes: 21 | Win count: 207 | Win rate: 1.000 | time: 36.05 minutes\n",
      "Epoch: 265/14999 | Loss: 0.0165 | Episodes: 33 | Win count: 208 | Win rate: 1.000 | time: 36.14 minutes\n",
      "Epoch: 266/14999 | Loss: 0.0122 | Episodes: 26 | Win count: 209 | Win rate: 1.000 | time: 36.22 minutes\n",
      "Epoch: 267/14999 | Loss: 0.0093 | Episodes: 24 | Win count: 210 | Win rate: 1.000 | time: 36.30 minutes\n",
      "Epoch: 268/14999 | Loss: 0.0034 | Episodes: 6 | Win count: 211 | Win rate: 1.000 | time: 36.32 minutes\n",
      "Epoch: 269/14999 | Loss: 0.0077 | Episodes: 17 | Win count: 212 | Win rate: 1.000 | time: 36.37 minutes\n",
      "Epoch: 270/14999 | Loss: 0.0043 | Episodes: 11 | Win count: 213 | Win rate: 1.000 | time: 36.40 minutes\n",
      "Epoch: 271/14999 | Loss: 0.0134 | Episodes: 33 | Win count: 214 | Win rate: 1.000 | time: 36.50 minutes\n",
      "Epoch: 272/14999 | Loss: 0.0006 | Episodes: 1 | Win count: 215 | Win rate: 1.000 | time: 36.51 minutes\n",
      "Epoch: 273/14999 | Loss: 0.0022 | Episodes: 4 | Win count: 216 | Win rate: 1.000 | time: 36.52 minutes\n",
      "Epoch: 274/14999 | Loss: 0.0020 | Episodes: 4 | Win count: 217 | Win rate: 1.000 | time: 36.53 minutes\n",
      "Epoch: 275/14999 | Loss: 0.0100 | Episodes: 27 | Win count: 218 | Win rate: 1.000 | time: 36.61 minutes\n",
      "Reached 100% win rate at epoch: 275\n",
      "n_epoch: 275, max_mem: 512, data: 32, time: 36.63 minutes\n"
     ]
    },
    {
     "data": {
      "text/plain": [
       "2197.560778"
      ]
     },
     "execution_count": 104,
     "metadata": {},
     "output_type": "execute_result"
    }
   ],
   "source": [
    "model = build_model(maze)\n",
    "qtrain(model, maze, epochs=1000, max_memory=8*maze.size, data_size=32)"
   ]
  },
  {
   "cell_type": "markdown",
   "metadata": {},
   "source": [
    "This cell will check to see if the model passes the completion check. Note: This could take several minutes."
   ]
  },
  {
   "cell_type": "code",
   "execution_count": 105,
   "metadata": {},
   "outputs": [
    {
     "data": {
      "text/plain": [
       "<matplotlib.image.AxesImage at 0x2062e223b08>"
      ]
     },
     "execution_count": 105,
     "metadata": {},
     "output_type": "execute_result"
    },
    {
     "data": {
      "image/png": "[encoded data removed]",
      "text/plain": [
       "<Figure size 432x288 with 1 Axes>"
      ]
     },
     "metadata": {
      "needs_background": "light"
     },
     "output_type": "display_data"
    }
   ],
   "source": [
    "completion_check(model, qmaze)\n",
    "show(qmaze)"
   ]
  },
  {
   "cell_type": "markdown",
   "metadata": {},
   "source": [
    "This cell will test your model for one game. It will start the pirate at the top-left corner and run play_game. The agent should find a path from the starting position to the target (treasure). The treasure is located in the bottom-right corner."
   ]
  },
  {
   "cell_type": "code",
   "execution_count": 106,
   "metadata": {},
   "outputs": [
    {
     "data": {
      "text/plain": [
       "<matplotlib.image.AxesImage at 0x2062570e208>"
      ]
     },
     "execution_count": 106,
     "metadata": {},
     "output_type": "execute_result"
    },
    {
     "data": {
      "image/png": "[encoded data removed]",
      "text/plain": [
       "<Figure size 432x288 with 1 Axes>"
      ]
     },
     "metadata": {
      "needs_background": "light"
     },
     "output_type": "display_data"
    }
   ],
   "source": [
    "pirate_start = (0, 0)\n",
    "play_game(model, qmaze, pirate_start)\n",
    "show(qmaze)"
   ]
  },
  {
   "cell_type": "markdown",
   "metadata": {},
   "source": [
    "## Save and Submit Your Work\n",
    "After you have finished creating the code for your notebook, save your work. Make sure that your notebook contains your name in the filename (e.g. Doe_Jane_ProjectTwo.ipynb). This will help your instructor access and grade your work easily. Download a copy of your IPYNB file and submit it to Brightspace. Refer to the Jupyter Notebook in Apporto Tutorial if you need help with these tasks."
   ]
  }
 ],
 "metadata": {
  "kernelspec": {
   "display_name": "Python 3",
   "language": "python",
   "name": "python3"
  },
  "language_info": {
   "codemirror_mode": {
    "name": "ipython",
    "version": 3
   },
   "file_extension": ".py",
   "mimetype": "text/x-python",
   "name": "python",
   "nbconvert_exporter": "python",
   "pygments_lexer": "ipython3",
   "version": "3.7.4"
  }
 },
 "nbformat": 4,
 "nbformat_minor": 2
}
